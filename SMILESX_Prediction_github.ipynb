{
 "cells": [
  {
   "cell_type": "code",
   "execution_count": 1,
   "metadata": {},
   "outputs": [
    {
     "name": "stdout",
     "output_type": "stream",
     "text": [
      "env: CUDA_VISIBLE_DEVICES=0\n",
      "env: KERAS_BACKEND=tensorflow\n"
     ]
    }
   ],
   "source": [
    "# Tensorflow uses CPU instead of GPU device\n",
    "import os\n",
    "%env CUDA_VISIBLE_DEVICES=0\n",
    "%env KERAS_BACKEND=tensorflow"
   ]
  },
  {
   "cell_type": "code",
   "execution_count": 2,
   "metadata": {},
   "outputs": [
    {
     "name": "stderr",
     "output_type": "stream",
     "text": [
      "Using TensorFlow backend.\n"
     ]
    },
    {
     "name": "stdout",
     "output_type": "stream",
     "text": [
      "WARNING:tensorflow:From /home/u3/navaro/SMILES-X/SMILESX/main.py:35: The name tf.ConfigProto is deprecated. Please use tf.compat.v1.ConfigProto instead.\n",
      "\n",
      "WARNING:tensorflow:From /home/u3/navaro/SMILES-X/SMILESX/main.py:38: The name tf.Session is deprecated. Please use tf.compat.v1.Session instead.\n",
      "\n",
      "Device mapping:\n",
      "/job:localhost/replica:0/task:0/device:XLA_CPU:0 -> device: XLA_CPU device\n",
      "\n",
      "Device mapping:\n",
      "/job:localhost/replica:0/task:0/device:XLA_CPU:0 -> device: XLA_CPU device\n",
      "\n"
     ]
    },
    {
     "name": "stderr",
     "output_type": "stream",
     "text": [
      "RDKit WARNING: [16:09:14] Enabling RDKit 2019.09.3 jupyter extensions\n"
     ]
    }
   ],
   "source": [
    "import pandas as pd\n",
    "\n",
    "from SMILESX import main, inference\n",
    "%matplotlib inline"
   ]
  },
  {
   "cell_type": "markdown",
   "metadata": {},
   "source": [
    "#### Definition of data"
   ]
  },
  {
   "cell_type": "code",
   "execution_count": 3,
   "metadata": {},
   "outputs": [],
   "source": [
    "validation_data_dir = \"validation_data/\""
   ]
  },
  {
   "cell_type": "code",
   "execution_count": 4,
   "metadata": {},
   "outputs": [],
   "source": [
    "extension = '.csv'"
   ]
  },
  {
   "cell_type": "code",
   "execution_count": 5,
   "metadata": {},
   "outputs": [],
   "source": [
    "data_name = 'FreeSolv' # FreeSolv, ESOL, Lipophilicity\n",
    "prop_tag = ''"
   ]
  },
  {
   "cell_type": "code",
   "execution_count": 6,
   "metadata": {},
   "outputs": [],
   "source": [
    "if data_name == 'FreeSolv':\n",
    "    data_filename = 'FreeSolv_SAMPL'\n",
    "    prop_tag = 'expt'\n",
    "elif data_name == 'ESOL':\n",
    "    data_filename = 'ESOL_delaney-processed'\n",
    "    prop_tag = 'measured log solubility in mols per litre'\n",
    "elif data_name == 'Lipophilicity':\n",
    "    data_filename = 'Lipophilicity'\n",
    "    prop_tag = 'exp'\n",
    "else:\n",
    "    data_filename = data_name\n",
    "    prop_tag = prop_tag"
   ]
  },
  {
   "cell_type": "code",
   "execution_count": 7,
   "metadata": {},
   "outputs": [],
   "source": [
    "import os\n",
    "try:\n",
    "    data_file = os.path.join(validation_data_dir,data_filename+extension)\n",
    "    sol_data = pd.read_csv(os.path.join(data_file))\n",
    "except FileNotFoundError:\n",
    "    print(f\"file {data_file} doesn't exist\")"
   ]
  },
  {
   "cell_type": "code",
   "execution_count": 8,
   "metadata": {},
   "outputs": [
    {
     "data": {
      "text/html": [
       "<div>\n",
       "<style scoped>\n",
       "    .dataframe tbody tr th:only-of-type {\n",
       "        vertical-align: middle;\n",
       "    }\n",
       "\n",
       "    .dataframe tbody tr th {\n",
       "        vertical-align: top;\n",
       "    }\n",
       "\n",
       "    .dataframe thead th {\n",
       "        text-align: right;\n",
       "    }\n",
       "</style>\n",
       "<table border=\"1\" class=\"dataframe\">\n",
       "  <thead>\n",
       "    <tr style=\"text-align: right;\">\n",
       "      <th></th>\n",
       "      <th>Unnamed: 0</th>\n",
       "      <th>iupac</th>\n",
       "      <th>smiles</th>\n",
       "      <th>expt</th>\n",
       "      <th>calc</th>\n",
       "    </tr>\n",
       "  </thead>\n",
       "  <tbody>\n",
       "    <tr>\n",
       "      <th>0</th>\n",
       "      <td>0</td>\n",
       "      <td>4-methoxy-N,N-dimethyl-benzamide</td>\n",
       "      <td>COc1ccc(C(=O)N(C)C)cc1</td>\n",
       "      <td>-11.01</td>\n",
       "      <td>-9.625</td>\n",
       "    </tr>\n",
       "    <tr>\n",
       "      <th>1</th>\n",
       "      <td>1</td>\n",
       "      <td>methanesulfonyl chloride</td>\n",
       "      <td>CS(=O)(=O)Cl</td>\n",
       "      <td>-4.87</td>\n",
       "      <td>-6.219</td>\n",
       "    </tr>\n",
       "    <tr>\n",
       "      <th>2</th>\n",
       "      <td>2</td>\n",
       "      <td>3-methylbut-1-ene</td>\n",
       "      <td>C=CC(C)C</td>\n",
       "      <td>1.83</td>\n",
       "      <td>2.452</td>\n",
       "    </tr>\n",
       "  </tbody>\n",
       "</table>\n",
       "</div>"
      ],
      "text/plain": [
       "   Unnamed: 0                             iupac                  smiles  \\\n",
       "0           0  4-methoxy-N,N-dimethyl-benzamide  COc1ccc(C(=O)N(C)C)cc1   \n",
       "1           1          methanesulfonyl chloride            CS(=O)(=O)Cl   \n",
       "2           2                 3-methylbut-1-ene                C=CC(C)C   \n",
       "\n",
       "    expt   calc  \n",
       "0 -11.01 -9.625  \n",
       "1  -4.87 -6.219  \n",
       "2   1.83  2.452  "
      ]
     },
     "execution_count": 8,
     "metadata": {},
     "output_type": "execute_result"
    }
   ],
   "source": [
    "sol_data.head(3)"
   ]
  },
  {
   "cell_type": "code",
   "execution_count": 9,
   "metadata": {},
   "outputs": [],
   "source": [
    "sol_data = sol_data[['smiles',prop_tag]]"
   ]
  },
  {
   "cell_type": "code",
   "execution_count": 10,
   "metadata": {},
   "outputs": [
    {
     "data": {
      "text/html": [
       "<div>\n",
       "<style scoped>\n",
       "    .dataframe tbody tr th:only-of-type {\n",
       "        vertical-align: middle;\n",
       "    }\n",
       "\n",
       "    .dataframe tbody tr th {\n",
       "        vertical-align: top;\n",
       "    }\n",
       "\n",
       "    .dataframe thead th {\n",
       "        text-align: right;\n",
       "    }\n",
       "</style>\n",
       "<table border=\"1\" class=\"dataframe\">\n",
       "  <thead>\n",
       "    <tr style=\"text-align: right;\">\n",
       "      <th></th>\n",
       "      <th>smiles</th>\n",
       "      <th>expt</th>\n",
       "    </tr>\n",
       "  </thead>\n",
       "  <tbody>\n",
       "    <tr>\n",
       "      <th>0</th>\n",
       "      <td>COc1ccc(C(=O)N(C)C)cc1</td>\n",
       "      <td>-11.01</td>\n",
       "    </tr>\n",
       "    <tr>\n",
       "      <th>1</th>\n",
       "      <td>CS(=O)(=O)Cl</td>\n",
       "      <td>-4.87</td>\n",
       "    </tr>\n",
       "    <tr>\n",
       "      <th>2</th>\n",
       "      <td>C=CC(C)C</td>\n",
       "      <td>1.83</td>\n",
       "    </tr>\n",
       "    <tr>\n",
       "      <th>3</th>\n",
       "      <td>CCc1cnccn1</td>\n",
       "      <td>-5.45</td>\n",
       "    </tr>\n",
       "    <tr>\n",
       "      <th>4</th>\n",
       "      <td>CCCCCCCO</td>\n",
       "      <td>-4.21</td>\n",
       "    </tr>\n",
       "  </tbody>\n",
       "</table>\n",
       "</div>"
      ],
      "text/plain": [
       "                   smiles   expt\n",
       "0  COc1ccc(C(=O)N(C)C)cc1 -11.01\n",
       "1            CS(=O)(=O)Cl  -4.87\n",
       "2                C=CC(C)C   1.83\n",
       "3              CCc1cnccn1  -5.45\n",
       "4                CCCCCCCO  -4.21"
      ]
     },
     "execution_count": 10,
     "metadata": {},
     "output_type": "execute_result"
    }
   ],
   "source": [
    "sol_data.head()"
   ]
  },
  {
   "cell_type": "code",
   "execution_count": 11,
   "metadata": {},
   "outputs": [
    {
     "data": {
      "text/plain": [
       "(642, 2)"
      ]
     },
     "execution_count": 11,
     "metadata": {},
     "output_type": "execute_result"
    }
   ],
   "source": [
    "sol_data.shape"
   ]
  },
  {
   "cell_type": "markdown",
   "metadata": {},
   "source": [
    "#### Hyperparameters optimization with GPyOpt (Bayesian optimization)"
   ]
  },
  {
   "cell_type": "code",
   "execution_count": 12,
   "metadata": {},
   "outputs": [],
   "source": [
    "dhyp_range = [int(2**itn) for itn in range(3,11)] # \n",
    "dalpha_range = [float(ialpha/10.) for ialpha in range(20,40,1)] # Adam's learning rate = 10^(-dalpha_range)\n",
    "\n",
    "if data_name != 'Lipophilicity':\n",
    "    bounds = [\n",
    "        {'name': 'lstmunits', 'type': 'discrete', 'domain': dhyp_range}, \n",
    "        {'name': 'denseunits', 'type': 'discrete', 'domain': dhyp_range}, \n",
    "        {'name': 'embedding', 'type': 'discrete', 'domain': dhyp_range}, \n",
    "        {'name': 'batchsize', 'type': 'discrete', 'domain': dhyp_range}, \n",
    "        {'name': 'lrate', 'type': 'discrete', 'domain': dalpha_range}\n",
    "    ]\n",
    "else:\n",
    "    bounds = [\n",
    "        {'name': 'lstmunits', 'type': 'discrete', 'domain': dhyp_range}, \n",
    "        {'name': 'denseunits', 'type': 'discrete', 'domain': dhyp_range}, \n",
    "        {'name': 'embedding', 'type': 'discrete', 'domain': dhyp_range}, \n",
    "        {'name': 'batchsize', 'type': 'discrete', 'domain': (1024, 1024)}, # fixed\n",
    "        {'name': 'lrate', 'type': 'discrete', 'domain': (3, 3)} # fixed\n",
    "    ]"
   ]
  },
  {
   "cell_type": "code",
   "execution_count": null,
   "metadata": {
    "scrolled": true
   },
   "outputs": [
    {
     "name": "stdout",
     "output_type": "stream",
     "text": [
      "***SMILES_X starts...***\n",
      "\n",
      "\n",
      "******\n",
      "***Fold #0 initiated...***\n",
      "******\n",
      "***Sampling and splitting of the dataset.***\n",
      "\n",
      "Scaler: RobustScaler(copy=True, quantile_range=(5.0, 95.0), with_centering=True,\n",
      "             with_scaling=True)\n",
      "Train/valid/test splits: 0.80/0.10/0.10\n",
      "\n",
      "\n",
      "***Data augmentation to True***\n",
      "\n",
      "Enumerated SMILES:\n",
      "\tTraining set: 4352\n",
      "\tValidation set: 474\n",
      "\tTest set: 529\n",
      "\n",
      "***Tokenization of SMILES.***\n",
      "\n",
      "Examples of tokenized SMILES from a training set:\n",
      "[[' ', 'C', '=', 'C', 'C', 'C', ' '], [' ', 'C', '(', 'C', 'C', ')', '=', 'C', ' '], [' ', 'C', '(', 'C', ')', 'C', '=', 'C', ' '], [' ', 'C', 'C', 'C', '=', 'C', ' '], [' ', 'c', '1', 'c', 'c', 'c', '2', 'n', 'c', 'c', 'c', 'c', '2', 'c', '1', ' ']]\n",
      "\n",
      "Number of tokens only present in a training set: 33\n",
      "\n",
      "Number of tokens only present in a validation set: 22\n",
      "Is the validation set a subset of the training set: True\n",
      "What are the tokens by which they differ: set()\n",
      "\n",
      "Number of tokens only present in a test set: 26\n",
      "Is the test set a subset of the training set: True\n",
      "What are the tokens by which they differ: set()\n",
      "Is the test set a subset of the validation set: False\n",
      "What are the tokens by which they differ: {'-', '\\\\', '4', '3', '#', '/'}\n",
      "\n",
      "Full vocabulary: ['2', 'C', '4', 'n', 'I', '[nH]', '/', '(', '[C@@]', '-', 's', '[C@@H]', 'F', 'Br', ' ', '[S+2]', '[N+]', 'Cl', '[C@]', '[C@H]', '3', ')', 'N', '[O-]', '=', 'c', '1', 'P', '5', '\\\\', 'O', '#', 'S']\n",
      "Of size: 33\n",
      "\n",
      "Maximum length of tokenized SMILES: 50 tokens (termination spaces included)\n",
      "\n",
      "***Bayesian Optimization of the SMILESX's architecture.***\n",
      "\n",
      "Random initialization:\n",
      "\n",
      "Model: [[512.  512.   32.  128.    3.9]]\n",
      "WARNING:tensorflow:From /home/u3/navaro/.conda/envs/tensorflow-gpu-1.15.2/lib/python3.6/site-packages/keras/backend/tensorflow_backend.py:88: The name tf.reset_default_graph is deprecated. Please use tf.compat.v1.reset_default_graph instead.\n",
      "\n",
      "WARNING:tensorflow:From /home/u3/navaro/.conda/envs/tensorflow-gpu-1.15.2/lib/python3.6/site-packages/keras/backend/tensorflow_backend.py:91: The name tf.placeholder_with_default is deprecated. Please use tf.compat.v1.placeholder_with_default instead.\n",
      "\n",
      "WARNING:tensorflow:From /home/u3/navaro/.conda/envs/tensorflow-gpu-1.15.2/lib/python3.6/site-packages/keras/backend/tensorflow_backend.py:95: The name tf.get_default_graph is deprecated. Please use tf.compat.v1.get_default_graph instead.\n",
      "\n",
      "WARNING:tensorflow:From /home/u3/navaro/.conda/envs/tensorflow-gpu-1.15.2/lib/python3.6/site-packages/keras/backend/tensorflow_backend.py:507: The name tf.placeholder is deprecated. Please use tf.compat.v1.placeholder instead.\n",
      "\n",
      "WARNING:tensorflow:From /home/u3/navaro/.conda/envs/tensorflow-gpu-1.15.2/lib/python3.6/site-packages/keras/backend/tensorflow_backend.py:3831: The name tf.random_uniform is deprecated. Please use tf.random.uniform instead.\n",
      "\n",
      "WARNING:tensorflow:From /home/u3/navaro/.conda/envs/tensorflow-gpu-1.15.2/lib/python3.6/site-packages/keras/backend/tensorflow_backend.py:3808: The name tf.random_normal is deprecated. Please use tf.random.normal instead.\n",
      "\n",
      "WARNING:tensorflow:From /home/u3/navaro/.conda/envs/tensorflow-gpu-1.15.2/lib/python3.6/site-packages/keras/optimizers.py:757: The name tf.train.Optimizer is deprecated. Please use tf.compat.v1.train.Optimizer instead.\n",
      "\n",
      "WARNING:tensorflow:From /home/u3/navaro/.conda/envs/tensorflow-gpu-1.15.2/lib/python3.6/site-packages/tensorflow_core/python/ops/math_grad.py:1424: where (from tensorflow.python.ops.array_ops) is deprecated and will be removed in a future version.\n",
      "Instructions for updating:\n",
      "Use tf.where in 2.0, which has the same broadcast rule as np.where\n",
      "WARNING:tensorflow:From /home/u3/navaro/.conda/envs/tensorflow-gpu-1.15.2/lib/python3.6/site-packages/keras/backend/tensorflow_backend.py:976: The name tf.assign_add is deprecated. Please use tf.compat.v1.assign_add instead.\n",
      "\n",
      "WARNING:tensorflow:From /home/u3/navaro/.conda/envs/tensorflow-gpu-1.15.2/lib/python3.6/site-packages/keras/backend/tensorflow_backend.py:963: The name tf.assign is deprecated. Please use tf.compat.v1.assign instead.\n",
      "\n",
      "WARNING:tensorflow:From /home/u3/navaro/.conda/envs/tensorflow-gpu-1.15.2/lib/python3.6/site-packages/keras/backend/tensorflow_backend.py:167: The name tf.get_default_session is deprecated. Please use tf.compat.v1.get_default_session instead.\n",
      "\n",
      "WARNING:tensorflow:From /home/u3/navaro/.conda/envs/tensorflow-gpu-1.15.2/lib/python3.6/site-packages/keras/backend/tensorflow_backend.py:183: The name tf.global_variables is deprecated. Please use tf.compat.v1.global_variables instead.\n",
      "\n",
      "WARNING:tensorflow:From /home/u3/navaro/.conda/envs/tensorflow-gpu-1.15.2/lib/python3.6/site-packages/keras/backend/tensorflow_backend.py:192: The name tf.is_variable_initialized is deprecated. Please use tf.compat.v1.is_variable_initialized instead.\n",
      "\n",
      "WARNING:tensorflow:From /home/u3/navaro/.conda/envs/tensorflow-gpu-1.15.2/lib/python3.6/site-packages/keras/backend/tensorflow_backend.py:199: The name tf.variables_initializer is deprecated. Please use tf.compat.v1.variables_initializer instead.\n",
      "\n",
      "Valid MAE: 0.2394, RMSE: 0.0945\n",
      "Optimization:\n",
      "\n",
      "Model: [[512.  256.  512.  256.    3.1]]\n",
      "Valid MAE: 0.2011, RMSE: 0.0672\n",
      "\n",
      "The architecture for this datatset is:\n",
      "\tLSTM units: 512\n",
      "\tDense units: 256\n",
      "\tEmbedding dimensions 512\n",
      "\tBatch size: 256\n",
      "\tLearning rate: 10^-(3.1)\n",
      "\n",
      "***Training of the best model.***\n",
      "\n",
      "Best model summary:\n",
      "\n",
      "_________________________________________________________________\n",
      "Layer (type)                 Output Shape              Param #   \n",
      "=================================================================\n",
      "input_1 (InputLayer)         (None, 51)                0         \n",
      "_________________________________________________________________\n",
      "embedding_1 (Embedding)      (None, 51, 512)           17920     \n",
      "_________________________________________________________________\n",
      "bidirectional_1 (Bidirection (None, 51, 1024)          4198400   \n",
      "_________________________________________________________________\n",
      "time_distributed_1 (TimeDist (None, 51, 256)           262400    \n",
      "_________________________________________________________________\n",
      "attention_m_1 (AttentionM)   (None, 256)               307       \n",
      "_________________________________________________________________\n",
      "dense_2 (Dense)              (None, 1)                 257       \n",
      "=================================================================\n",
      "Total params: 4,479,284\n",
      "Trainable params: 4,479,284\n",
      "Non-trainable params: 0\n",
      "_________________________________________________________________\n",
      "None\n",
      "\n",
      "\n",
      "Epoch 1/100\n",
      "17/17 [==============================] - 29s 2s/step - loss: 0.1163 - mean_absolute_error: 0.2528 - mean_squared_error: 0.1163 - val_loss: 0.0805 - val_mean_absolute_error: 0.2233 - val_mean_squared_error: 0.0805\n",
      "Epoch 2/100\n",
      "17/17 [==============================] - 27s 2s/step - loss: 0.0692 - mean_absolute_error: 0.1977 - mean_squared_error: 0.0692 - val_loss: 0.0520 - val_mean_absolute_error: 0.1898 - val_mean_squared_error: 0.0520\n",
      "Epoch 3/100\n",
      "17/17 [==============================] - 27s 2s/step - loss: 0.0456 - mean_absolute_error: 0.1617 - mean_squared_error: 0.0456 - val_loss: 0.0513 - val_mean_absolute_error: 0.1836 - val_mean_squared_error: 0.0513\n",
      "Epoch 4/100\n",
      "17/17 [==============================] - 27s 2s/step - loss: 0.0384 - mean_absolute_error: 0.1506 - mean_squared_error: 0.0384 - val_loss: 0.0494 - val_mean_absolute_error: 0.1810 - val_mean_squared_error: 0.0494\n",
      "Epoch 5/100\n",
      "17/17 [==============================] - 27s 2s/step - loss: 0.0322 - mean_absolute_error: 0.1425 - mean_squared_error: 0.0322 - val_loss: 0.0296 - val_mean_absolute_error: 0.1394 - val_mean_squared_error: 0.0296\n",
      "Epoch 6/100\n",
      "17/17 [==============================] - 27s 2s/step - loss: 0.0278 - mean_absolute_error: 0.1299 - mean_squared_error: 0.0278 - val_loss: 0.0282 - val_mean_absolute_error: 0.1404 - val_mean_squared_error: 0.0282\n",
      "Epoch 7/100\n",
      "17/17 [==============================] - 27s 2s/step - loss: 0.0253 - mean_absolute_error: 0.1249 - mean_squared_error: 0.0253 - val_loss: 0.0283 - val_mean_absolute_error: 0.1412 - val_mean_squared_error: 0.0283\n",
      "Epoch 8/100\n"
     ]
    },
    {
     "name": "stdout",
     "output_type": "stream",
     "text": [
      "17/17 [==============================] - 27s 2s/step - loss: 0.0235 - mean_absolute_error: 0.1200 - mean_squared_error: 0.0235 - val_loss: 0.0298 - val_mean_absolute_error: 0.1379 - val_mean_squared_error: 0.0298\n",
      "Epoch 9/100\n",
      "17/17 [==============================] - 27s 2s/step - loss: 0.0245 - mean_absolute_error: 0.1200 - mean_squared_error: 0.0245 - val_loss: 0.0268 - val_mean_absolute_error: 0.1346 - val_mean_squared_error: 0.0268\n",
      "Epoch 10/100\n",
      "17/17 [==============================] - 26s 2s/step - loss: 0.0224 - mean_absolute_error: 0.1192 - mean_squared_error: 0.0224 - val_loss: 0.0279 - val_mean_absolute_error: 0.1409 - val_mean_squared_error: 0.0279\n",
      "Epoch 11/100\n",
      "17/17 [==============================] - 27s 2s/step - loss: 0.0219 - mean_absolute_error: 0.1170 - mean_squared_error: 0.0219 - val_loss: 0.0268 - val_mean_absolute_error: 0.1319 - val_mean_squared_error: 0.0268\n",
      "Epoch 12/100\n",
      "17/17 [==============================] - 27s 2s/step - loss: 0.0243 - mean_absolute_error: 0.1209 - mean_squared_error: 0.0243 - val_loss: 0.0242 - val_mean_absolute_error: 0.1252 - val_mean_squared_error: 0.0242\n",
      "Epoch 13/100\n",
      "17/17 [==============================] - 27s 2s/step - loss: 0.0205 - mean_absolute_error: 0.1148 - mean_squared_error: 0.0205 - val_loss: 0.0246 - val_mean_absolute_error: 0.1249 - val_mean_squared_error: 0.0246\n",
      "Epoch 14/100\n",
      "17/17 [==============================] - 27s 2s/step - loss: 0.0190 - mean_absolute_error: 0.1094 - mean_squared_error: 0.0190 - val_loss: 0.0285 - val_mean_absolute_error: 0.1377 - val_mean_squared_error: 0.0285\n",
      "Epoch 15/100\n",
      "17/17 [==============================] - 27s 2s/step - loss: 0.0181 - mean_absolute_error: 0.1079 - mean_squared_error: 0.0181 - val_loss: 0.0244 - val_mean_absolute_error: 0.1234 - val_mean_squared_error: 0.0244\n",
      "Epoch 16/100\n",
      "17/17 [==============================] - 27s 2s/step - loss: 0.0191 - mean_absolute_error: 0.1090 - mean_squared_error: 0.0191 - val_loss: 0.0205 - val_mean_absolute_error: 0.1145 - val_mean_squared_error: 0.0205\n",
      "Epoch 17/100\n",
      "17/17 [==============================] - 27s 2s/step - loss: 0.0179 - mean_absolute_error: 0.1066 - mean_squared_error: 0.0179 - val_loss: 0.0255 - val_mean_absolute_error: 0.1287 - val_mean_squared_error: 0.0255\n",
      "Epoch 18/100\n",
      "17/17 [==============================] - 27s 2s/step - loss: 0.0209 - mean_absolute_error: 0.1118 - mean_squared_error: 0.0209 - val_loss: 0.0211 - val_mean_absolute_error: 0.1173 - val_mean_squared_error: 0.0211\n",
      "Epoch 19/100\n",
      "17/17 [==============================] - 27s 2s/step - loss: 0.0203 - mean_absolute_error: 0.1110 - mean_squared_error: 0.0203 - val_loss: 0.0254 - val_mean_absolute_error: 0.1256 - val_mean_squared_error: 0.0254\n",
      "Epoch 20/100\n",
      "17/17 [==============================] - 27s 2s/step - loss: 0.0354 - mean_absolute_error: 0.1106 - mean_squared_error: 0.0354 - val_loss: 0.0270 - val_mean_absolute_error: 0.1233 - val_mean_squared_error: 0.0270\n",
      "Epoch 21/100\n",
      "17/17 [==============================] - 27s 2s/step - loss: 0.0232 - mean_absolute_error: 0.1147 - mean_squared_error: 0.0232 - val_loss: 0.0220 - val_mean_absolute_error: 0.1222 - val_mean_squared_error: 0.0220\n",
      "Epoch 22/100\n",
      "17/17 [==============================] - 27s 2s/step - loss: 0.0203 - mean_absolute_error: 0.1087 - mean_squared_error: 0.0203 - val_loss: 0.0212 - val_mean_absolute_error: 0.1098 - val_mean_squared_error: 0.0212\n",
      "Epoch 23/100\n",
      "17/17 [==============================] - 27s 2s/step - loss: 0.0190 - mean_absolute_error: 0.1044 - mean_squared_error: 0.0190 - val_loss: 0.0172 - val_mean_absolute_error: 0.1018 - val_mean_squared_error: 0.0172\n",
      "Epoch 24/100\n",
      "17/17 [==============================] - 27s 2s/step - loss: 0.0159 - mean_absolute_error: 0.0980 - mean_squared_error: 0.0159 - val_loss: 0.0223 - val_mean_absolute_error: 0.1192 - val_mean_squared_error: 0.0223\n",
      "Epoch 25/100\n",
      "17/17 [==============================] - 27s 2s/step - loss: 0.0180 - mean_absolute_error: 0.1031 - mean_squared_error: 0.0180 - val_loss: 0.0233 - val_mean_absolute_error: 0.1094 - val_mean_squared_error: 0.0233\n",
      "Epoch 26/100\n",
      "17/17 [==============================] - 27s 2s/step - loss: 0.0191 - mean_absolute_error: 0.1086 - mean_squared_error: 0.0191 - val_loss: 0.0167 - val_mean_absolute_error: 0.0978 - val_mean_squared_error: 0.0167\n",
      "Epoch 27/100\n",
      "17/17 [==============================] - 27s 2s/step - loss: 0.0160 - mean_absolute_error: 0.0991 - mean_squared_error: 0.0160 - val_loss: 0.0152 - val_mean_absolute_error: 0.1005 - val_mean_squared_error: 0.0152\n",
      "Epoch 28/100\n",
      "17/17 [==============================] - 27s 2s/step - loss: 0.0128 - mean_absolute_error: 0.0870 - mean_squared_error: 0.0128 - val_loss: 0.0146 - val_mean_absolute_error: 0.0923 - val_mean_squared_error: 0.0146\n",
      "Epoch 29/100\n",
      "17/17 [==============================] - 26s 2s/step - loss: 0.0133 - mean_absolute_error: 0.0882 - mean_squared_error: 0.0133 - val_loss: 0.0136 - val_mean_absolute_error: 0.0898 - val_mean_squared_error: 0.0136\n",
      "Epoch 30/100\n",
      "17/17 [==============================] - 27s 2s/step - loss: 0.0122 - mean_absolute_error: 0.0854 - mean_squared_error: 0.0122 - val_loss: 0.0136 - val_mean_absolute_error: 0.0888 - val_mean_squared_error: 0.0136\n",
      "Epoch 31/100\n",
      "17/17 [==============================] - 27s 2s/step - loss: 0.0127 - mean_absolute_error: 0.0877 - mean_squared_error: 0.0127 - val_loss: 0.0120 - val_mean_absolute_error: 0.0864 - val_mean_squared_error: 0.0120\n",
      "Epoch 32/100\n",
      "17/17 [==============================] - 27s 2s/step - loss: 0.0111 - mean_absolute_error: 0.0818 - mean_squared_error: 0.0111 - val_loss: 0.0151 - val_mean_absolute_error: 0.0929 - val_mean_squared_error: 0.0151\n",
      "Epoch 33/100\n",
      "17/17 [==============================] - 27s 2s/step - loss: 0.0133 - mean_absolute_error: 0.0881 - mean_squared_error: 0.0133 - val_loss: 0.0162 - val_mean_absolute_error: 0.0917 - val_mean_squared_error: 0.0162\n",
      "Epoch 34/100\n",
      "17/17 [==============================] - 27s 2s/step - loss: 0.0126 - mean_absolute_error: 0.0864 - mean_squared_error: 0.0126 - val_loss: 0.0134 - val_mean_absolute_error: 0.0873 - val_mean_squared_error: 0.0134\n",
      "Epoch 35/100\n",
      "17/17 [==============================] - 27s 2s/step - loss: 0.0116 - mean_absolute_error: 0.0823 - mean_squared_error: 0.0116 - val_loss: 0.0156 - val_mean_absolute_error: 0.1036 - val_mean_squared_error: 0.0156\n",
      "Epoch 36/100\n",
      "17/17 [==============================] - 27s 2s/step - loss: 0.0130 - mean_absolute_error: 0.0891 - mean_squared_error: 0.0130 - val_loss: 0.0101 - val_mean_absolute_error: 0.0794 - val_mean_squared_error: 0.0101\n",
      "Epoch 37/100\n",
      "17/17 [==============================] - 26s 2s/step - loss: 0.0111 - mean_absolute_error: 0.0801 - mean_squared_error: 0.0111 - val_loss: 0.0129 - val_mean_absolute_error: 0.0858 - val_mean_squared_error: 0.0129\n",
      "Epoch 38/100\n",
      "17/17 [==============================] - 27s 2s/step - loss: 0.0115 - mean_absolute_error: 0.0823 - mean_squared_error: 0.0115 - val_loss: 0.0114 - val_mean_absolute_error: 0.0811 - val_mean_squared_error: 0.0114\n",
      "Epoch 39/100\n",
      "17/17 [==============================] - 27s 2s/step - loss: 0.0120 - mean_absolute_error: 0.0828 - mean_squared_error: 0.0120 - val_loss: 0.0125 - val_mean_absolute_error: 0.0896 - val_mean_squared_error: 0.0125\n",
      "Epoch 40/100\n",
      "17/17 [==============================] - 27s 2s/step - loss: 0.0111 - mean_absolute_error: 0.0818 - mean_squared_error: 0.0111 - val_loss: 0.0124 - val_mean_absolute_error: 0.0835 - val_mean_squared_error: 0.0124\n",
      "Epoch 41/100\n",
      "17/17 [==============================] - 27s 2s/step - loss: 0.0114 - mean_absolute_error: 0.0815 - mean_squared_error: 0.0114 - val_loss: 0.0130 - val_mean_absolute_error: 0.0905 - val_mean_squared_error: 0.0130\n",
      "Epoch 42/100\n",
      "17/17 [==============================] - 27s 2s/step - loss: 0.0111 - mean_absolute_error: 0.0811 - mean_squared_error: 0.0111 - val_loss: 0.0138 - val_mean_absolute_error: 0.0872 - val_mean_squared_error: 0.0138\n",
      "Epoch 43/100\n",
      "17/17 [==============================] - 26s 2s/step - loss: 0.0107 - mean_absolute_error: 0.0810 - mean_squared_error: 0.0107 - val_loss: 0.0152 - val_mean_absolute_error: 0.0908 - val_mean_squared_error: 0.0152\n",
      "Epoch 44/100\n"
     ]
    },
    {
     "name": "stdout",
     "output_type": "stream",
     "text": [
      "17/17 [==============================] - 26s 2s/step - loss: 0.0112 - mean_absolute_error: 0.0811 - mean_squared_error: 0.0112 - val_loss: 0.0094 - val_mean_absolute_error: 0.0746 - val_mean_squared_error: 0.0094\n",
      "Epoch 45/100\n",
      "17/17 [==============================] - 27s 2s/step - loss: 0.0103 - mean_absolute_error: 0.0779 - mean_squared_error: 0.0103 - val_loss: 0.0091 - val_mean_absolute_error: 0.0729 - val_mean_squared_error: 0.0091\n",
      "Epoch 46/100\n",
      "17/17 [==============================] - 26s 2s/step - loss: 0.0102 - mean_absolute_error: 0.0765 - mean_squared_error: 0.0102 - val_loss: 0.0127 - val_mean_absolute_error: 0.0851 - val_mean_squared_error: 0.0127\n",
      "Epoch 47/100\n",
      "17/17 [==============================] - 27s 2s/step - loss: 0.0105 - mean_absolute_error: 0.0790 - mean_squared_error: 0.0105 - val_loss: 0.0137 - val_mean_absolute_error: 0.0901 - val_mean_squared_error: 0.0137\n",
      "Epoch 48/100\n",
      "17/17 [==============================] - 26s 2s/step - loss: 0.0094 - mean_absolute_error: 0.0748 - mean_squared_error: 0.0094 - val_loss: 0.0124 - val_mean_absolute_error: 0.0846 - val_mean_squared_error: 0.0124\n",
      "Epoch 49/100\n",
      "17/17 [==============================] - 33s 2s/step - loss: 0.0092 - mean_absolute_error: 0.0746 - mean_squared_error: 0.0092 - val_loss: 0.0109 - val_mean_absolute_error: 0.0829 - val_mean_squared_error: 0.0109\n",
      "Epoch 50/100\n",
      "17/17 [==============================] - 28s 2s/step - loss: 0.0084 - mean_absolute_error: 0.0699 - mean_squared_error: 0.0084 - val_loss: 0.0121 - val_mean_absolute_error: 0.0820 - val_mean_squared_error: 0.0121\n",
      "Epoch 51/100\n",
      "17/17 [==============================] - 27s 2s/step - loss: 0.0085 - mean_absolute_error: 0.0716 - mean_squared_error: 0.0085 - val_loss: 0.0075 - val_mean_absolute_error: 0.0680 - val_mean_squared_error: 0.0075\n",
      "Epoch 52/100\n",
      "17/17 [==============================] - 33s 2s/step - loss: 0.0082 - mean_absolute_error: 0.0693 - mean_squared_error: 0.0082 - val_loss: 0.0093 - val_mean_absolute_error: 0.0721 - val_mean_squared_error: 0.0093\n",
      "Epoch 53/100\n",
      "17/17 [==============================] - 33s 2s/step - loss: 0.0079 - mean_absolute_error: 0.0684 - mean_squared_error: 0.0079 - val_loss: 0.0112 - val_mean_absolute_error: 0.0797 - val_mean_squared_error: 0.0112\n",
      "Epoch 54/100\n",
      "17/17 [==============================] - 27s 2s/step - loss: 0.0086 - mean_absolute_error: 0.0712 - mean_squared_error: 0.0086 - val_loss: 0.0092 - val_mean_absolute_error: 0.0737 - val_mean_squared_error: 0.0092\n",
      "Epoch 55/100\n",
      "17/17 [==============================] - 27s 2s/step - loss: 0.0099 - mean_absolute_error: 0.0768 - mean_squared_error: 0.0099 - val_loss: 0.0144 - val_mean_absolute_error: 0.1001 - val_mean_squared_error: 0.0144\n",
      "Epoch 56/100\n",
      "17/17 [==============================] - 27s 2s/step - loss: 0.0110 - mean_absolute_error: 0.0827 - mean_squared_error: 0.0110 - val_loss: 0.0150 - val_mean_absolute_error: 0.1010 - val_mean_squared_error: 0.0150\n",
      "Epoch 57/100\n",
      "17/17 [==============================] - 27s 2s/step - loss: 0.0097 - mean_absolute_error: 0.0759 - mean_squared_error: 0.0097 - val_loss: 0.0105 - val_mean_absolute_error: 0.0771 - val_mean_squared_error: 0.0105\n",
      "Epoch 58/100\n",
      "17/17 [==============================] - 27s 2s/step - loss: 0.0087 - mean_absolute_error: 0.0716 - mean_squared_error: 0.0087 - val_loss: 0.0107 - val_mean_absolute_error: 0.0772 - val_mean_squared_error: 0.0107\n",
      "Epoch 59/100\n",
      "17/17 [==============================] - 27s 2s/step - loss: 0.0080 - mean_absolute_error: 0.0683 - mean_squared_error: 0.0080 - val_loss: 0.0094 - val_mean_absolute_error: 0.0730 - val_mean_squared_error: 0.0094\n",
      "Epoch 60/100\n",
      "17/17 [==============================] - 27s 2s/step - loss: 0.0080 - mean_absolute_error: 0.0695 - mean_squared_error: 0.0080 - val_loss: 0.0081 - val_mean_absolute_error: 0.0719 - val_mean_squared_error: 0.0081\n",
      "Epoch 61/100\n",
      "17/17 [==============================] - 27s 2s/step - loss: 0.0078 - mean_absolute_error: 0.0668 - mean_squared_error: 0.0078 - val_loss: 0.0078 - val_mean_absolute_error: 0.0655 - val_mean_squared_error: 0.0078\n",
      "Epoch 62/100\n",
      "13/17 [=====================>........] - ETA: 6s - loss: 0.0074 - mean_absolute_error: 0.0663 - mean_squared_error: 0.0074"
     ]
    }
   ],
   "source": [
    "main.Main(data=sol_data, \n",
    "          data_name=data_name, \n",
    "          data_units='', \n",
    "          bayopt_bounds=bounds, \n",
    "          k_fold_number = 3, \n",
    "          augmentation = True, \n",
    "          outdir = \"./data/\", \n",
    "          bayopt_n_epochs = 1,\n",
    "          bayopt_n_rounds = 1, \n",
    "          bayopt_it_factor = 1, \n",
    "          bayopt_on = True, \n",
    "          lstmunits_ref = 128, \n",
    "          denseunits_ref = 16, \n",
    "          embedding_ref = 32, \n",
    "          n_gpus = 1, \n",
    "          bridge_type = 'NVLink', \n",
    "          batch_size_ref = 8,\n",
    "          alpha_ref = 22, \n",
    "          patience = 50, \n",
    "          n_epochs = 100)"
   ]
  },
  {
   "cell_type": "code",
   "execution_count": null,
   "metadata": {},
   "outputs": [],
   "source": [
    "pred_from_ens = inference.Inference(data_name=data_name, \n",
    "                                    smiles_list = ['CC','CCC','C=O','ABC','DEF'], \n",
    "                                    data_units = '',\n",
    "                                    k_fold_number = 3,\n",
    "                                    augmentation = True, \n",
    "                                    outdir = \"./data/\")"
   ]
  },
  {
   "cell_type": "code",
   "execution_count": 21,
   "metadata": {},
   "outputs": [
    {
     "data": {
      "text/html": [
       "<div>\n",
       "<style scoped>\n",
       "    .dataframe tbody tr th:only-of-type {\n",
       "        vertical-align: middle;\n",
       "    }\n",
       "\n",
       "    .dataframe tbody tr th {\n",
       "        vertical-align: top;\n",
       "    }\n",
       "\n",
       "    .dataframe thead th {\n",
       "        text-align: right;\n",
       "    }\n",
       "</style>\n",
       "<table border=\"1\" class=\"dataframe\">\n",
       "  <thead>\n",
       "    <tr style=\"text-align: right;\">\n",
       "      <th></th>\n",
       "      <th>SMILES</th>\n",
       "      <th>ens_pred_mean</th>\n",
       "      <th>ens_pred_sd</th>\n",
       "    </tr>\n",
       "  </thead>\n",
       "  <tbody>\n",
       "    <tr>\n",
       "      <th>0</th>\n",
       "      <td>CC</td>\n",
       "      <td>0.377222</td>\n",
       "      <td>0.0105852</td>\n",
       "    </tr>\n",
       "    <tr>\n",
       "      <th>1</th>\n",
       "      <td>CCC</td>\n",
       "      <td>0.398645</td>\n",
       "      <td>0.00856436</td>\n",
       "    </tr>\n",
       "    <tr>\n",
       "      <th>2</th>\n",
       "      <td>C=O</td>\n",
       "      <td>-0.0439493</td>\n",
       "      <td>0.0381139</td>\n",
       "    </tr>\n",
       "  </tbody>\n",
       "</table>\n",
       "</div>"
      ],
      "text/plain": [
       "  SMILES ens_pred_mean ens_pred_sd\n",
       "0     CC      0.377222   0.0105852\n",
       "1    CCC      0.398645  0.00856436\n",
       "2    C=O    -0.0439493   0.0381139"
      ]
     },
     "execution_count": 21,
     "metadata": {},
     "output_type": "execute_result"
    }
   ],
   "source": [
    "pred_from_ens"
   ]
  },
  {
   "cell_type": "code",
   "execution_count": null,
   "metadata": {},
   "outputs": [],
   "source": []
  }
 ],
 "metadata": {
  "@webio": {
   "lastCommId": null,
   "lastKernelId": null
  },
  "kernelspec": {
   "display_name": "tf-gpu",
   "language": "python",
   "name": "tf-gpu"
  },
  "language_info": {
   "codemirror_mode": {
    "name": "ipython",
    "version": 3
   },
   "file_extension": ".py",
   "mimetype": "text/x-python",
   "name": "python",
   "nbconvert_exporter": "python",
   "pygments_lexer": "ipython3",
   "version": "3.6.10"
  }
 },
 "nbformat": 4,
 "nbformat_minor": 2
}
